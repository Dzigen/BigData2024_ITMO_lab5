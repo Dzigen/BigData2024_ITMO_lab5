{
 "cells": [
  {
   "cell_type": "code",
   "execution_count": 1,
   "metadata": {},
   "outputs": [],
   "source": [
    "import sys\n",
    "\n",
    "BASE_DIR = '../'\n",
    "sys.path.insert(0, BASE_DIR)\n",
    "\n",
    "from src import Preprocessor, Logger, KMeansConnector\n",
    "\n",
    "import configparser\n",
    "from pyspark.sql import SparkSession\n",
    "\n",
    "CONFIG_PATH = '../config.ini'"
   ]
  },
  {
   "cell_type": "code",
   "execution_count": 2,
   "metadata": {},
   "outputs": [
    {
     "data": {
      "text/plain": [
       "['../config.ini']"
      ]
     },
     "execution_count": 2,
     "metadata": {},
     "output_type": "execute_result"
    }
   ],
   "source": [
    "config = configparser.ConfigParser()\n",
    "config.read(CONFIG_PATH)"
   ]
  },
  {
   "cell_type": "code",
   "execution_count": 5,
   "metadata": {},
   "outputs": [
    {
     "name": "stderr",
     "output_type": "stream",
     "text": [
      "24/09/16 18:46:46 WARN Utils: Your hostname, tower resolves to a loopback address: 127.0.1.1; using 192.168.0.105 instead (on interface enp4s0)\n",
      "24/09/16 18:46:46 WARN Utils: Set SPARK_LOCAL_IP if you need to bind to another address\n",
      "Setting default log level to \"WARN\".\n",
      "To adjust logging level use sc.setLogLevel(newLevel). For SparkR, use setLogLevel(newLevel).\n",
      "24/09/16 18:46:47 WARN NativeCodeLoader: Unable to load native-hadoop library for your platform... using builtin-java classes where applicable\n"
     ]
    }
   ],
   "source": [
    "spark = SparkSession.builder.appName(config['spark']['app_name']) \\\n",
    "    .master(config['spark']['deploy_mode']) \\\n",
    "    .config(\"spark.driver.host\", config['spark']['host'])\\\n",
    "    .config(\"spark.driver.bindAddress\", config['spark']['host']) \\\n",
    "    .config(\"spark.driver.cores\", config['spark']['driver_cores']) \\\n",
    "    .config(\"spark.executor.cores\", config['spark']['executor_cores']) \\\n",
    "    .config(\"spark.driver.memory\", config['spark']['driver_memory']) \\\n",
    "    .config(\"spark.executor.memory\", config['spark']['executor_memory']) \\\n",
    "    .getOrCreate()"
   ]
  },
  {
   "cell_type": "code",
   "execution_count": 3,
   "metadata": {},
   "outputs": [],
   "source": [
    "logger = Logger(True).get_logger(\"logger\")\n",
    "preproc = Preprocessor(logger)"
   ]
  },
  {
   "cell_type": "code",
   "execution_count": 10,
   "metadata": {},
   "outputs": [
    {
     "name": "stdout",
     "output_type": "stream",
     "text": [
      "2024-09-16 18:47:13,398 — logger — INFO — START_METHOD: Загрузка датасета в spark\n",
      "2024-09-16 18:47:13,706 — logger — INFO — END_METHOD: Загрузка датасета в spark\n",
      "2024-09-16 18:47:13,707 — logger — INFO — START_METHOD: Применение к экземпларам датасета StandardScaler-трансформации\n",
      "2024-09-16 18:47:13,959 — logger — INFO — END_METHOD: Применение к экземпларам датасета StandardScaler-трансформации\n"
     ]
    }
   ],
   "source": [
    "features_names = config['dataset']['features'].split(\", \")\n",
    "output = preproc.load(f\"../data/{config['dataset']['name']}\", spark, features_names)\n",
    "scaled_output = preproc.apply_scale(output)"
   ]
  },
  {
   "cell_type": "code",
   "execution_count": 8,
   "metadata": {},
   "outputs": [],
   "source": [
    "model = KMeansConnector(2, 'scaled_features', logger)"
   ]
  },
  {
   "cell_type": "code",
   "execution_count": 11,
   "metadata": {},
   "outputs": [
    {
     "name": "stdout",
     "output_type": "stream",
     "text": [
      "2024-09-16 18:47:16,023 — logger — INFO — START_METHOD: Обучение модели кластеризации\n",
      "2024-09-16 18:47:18,007 — logger — INFO — END_METHOD: Обучение модели кластеризации\n"
     ]
    }
   ],
   "source": [
    "model.fit(scaled_output)"
   ]
  },
  {
   "cell_type": "code",
   "execution_count": 12,
   "metadata": {},
   "outputs": [
    {
     "name": "stdout",
     "output_type": "stream",
     "text": [
      "2024-09-16 18:47:20,972 — logger — INFO — START_METHOD: Получение предсказаний от обученной модели\n",
      "2024-09-16 18:47:21,006 — logger — INFO — END_METHOD: Получение предсказаний от обученной модели\n"
     ]
    }
   ],
   "source": [
    "predictions = model.predict(scaled_output)"
   ]
  },
  {
   "cell_type": "code",
   "execution_count": 13,
   "metadata": {},
   "outputs": [
    {
     "name": "stdout",
     "output_type": "stream",
     "text": [
      "2024-09-16 18:47:26,282 — logger — INFO — START_METHOD: Оценка качества модели кластеризации\n",
      "2024-09-16 18:47:26,793 — logger — INFO — END_METHOD: Оценка качества модели кластеризации\n"
     ]
    }
   ],
   "source": [
    "scores = model.evaluate(predictions)"
   ]
  },
  {
   "cell_type": "code",
   "execution_count": 14,
   "metadata": {},
   "outputs": [
    {
     "data": {
      "text/plain": [
       "0.6272703958697375"
      ]
     },
     "execution_count": 14,
     "metadata": {},
     "output_type": "execute_result"
    }
   ],
   "source": [
    "scores"
   ]
  },
  {
   "cell_type": "code",
   "execution_count": null,
   "metadata": {},
   "outputs": [],
   "source": []
  }
 ],
 "metadata": {
  "kernelspec": {
   "display_name": "venv",
   "language": "python",
   "name": "python3"
  },
  "language_info": {
   "codemirror_mode": {
    "name": "ipython",
    "version": 3
   },
   "file_extension": ".py",
   "mimetype": "text/x-python",
   "name": "python",
   "nbconvert_exporter": "python",
   "pygments_lexer": "ipython3",
   "version": "3.11.4"
  }
 },
 "nbformat": 4,
 "nbformat_minor": 2
}
